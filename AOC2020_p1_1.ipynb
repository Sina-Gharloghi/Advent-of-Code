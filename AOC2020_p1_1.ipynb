{
  "nbformat": 4,
  "nbformat_minor": 0,
  "metadata": {
    "colab": {
      "provenance": [],
      "authorship_tag": "ABX9TyO8RQKkMI0vUPrJGBbPDtRi",
      "include_colab_link": true
    },
    "kernelspec": {
      "name": "python3",
      "display_name": "Python 3"
    },
    "language_info": {
      "name": "python"
    }
  },
  "cells": [
    {
      "cell_type": "markdown",
      "metadata": {
        "id": "view-in-github",
        "colab_type": "text"
      },
      "source": [
        "<a href=\"https://colab.research.google.com/github/Sina-Gharloghi/Advent-of-Code/blob/main/AOC2020_p1_1.ipynb\" target=\"_parent\"><img src=\"https://colab.research.google.com/assets/colab-badge.svg\" alt=\"Open In Colab\"/></a>"
      ]
    },
    {
      "cell_type": "code",
      "execution_count": 28,
      "metadata": {
        "colab": {
          "base_uri": "https://localhost:8080/"
        },
        "id": "6ScWH8Q89WLo",
        "outputId": "7f903aa3-6fa0-4ea3-d707-c0ca5a6a9e4c"
      },
      "outputs": [
        {
          "output_type": "stream",
          "name": "stdout",
          "text": [
            "a , b , c =  816 , 1204\n",
            "answer =  982464\n"
          ]
        }
      ],
      "source": [
        "my_file = open(\"/input.txt\")\n",
        "data = my_file.readlines()\n",
        "\n",
        "for x in range (0,len(data)):\n",
        "  data[x] = int(data[x])\n",
        "  \n",
        "j = 0\n",
        "\n",
        "for x in range (0,len(data)):\n",
        "  for y in range (0,len(data)):\n",
        "      sum = data[x] + data[y]\n",
        "      if sum == 2020:\n",
        "        global a\n",
        "        global b\n",
        "        a = data[x]\n",
        "        b = data [y]\n",
        "        break\n",
        "\n",
        "print (\"a , b , c = \", a , \",\" , b)\n",
        "\n",
        "answer = a * b \n",
        "\n",
        "print (\"answer = \", answer)"
      ]
    }
  ]
}