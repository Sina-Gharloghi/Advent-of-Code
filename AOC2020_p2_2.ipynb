{
  "nbformat": 4,
  "nbformat_minor": 0,
  "metadata": {
    "colab": {
      "provenance": [],
      "authorship_tag": "ABX9TyPOxnZmm5mVjOojLNDxGwnj",
      "include_colab_link": true
    },
    "kernelspec": {
      "name": "python3",
      "display_name": "Python 3"
    },
    "language_info": {
      "name": "python"
    }
  },
  "cells": [
    {
      "cell_type": "markdown",
      "metadata": {
        "id": "view-in-github",
        "colab_type": "text"
      },
      "source": [
        "<a href=\"https://colab.research.google.com/github/Sina-Gharloghi/Advent-of-Code/blob/main/AOC2020_p2_2.ipynb\" target=\"_parent\"><img src=\"https://colab.research.google.com/assets/colab-badge.svg\" alt=\"Open In Colab\"/></a>"
      ]
    },
    {
      "cell_type": "code",
      "source": [
        "import re\n",
        "\n",
        "file = open('/input 2.txt')\n",
        "data = file.readlines()\n",
        "\n",
        "a = []\n",
        "for x in data:\n",
        "  s = re.split(\"\\s\", x)\n",
        "  a.append(s)\n",
        "\n",
        "nums=[]\n",
        "letters=[]\n",
        "pas=[]\n",
        "# spliting the given datas to 3 lists\n",
        "for y in a:\n",
        "  nums.append(y[0])\n",
        "  letters.append(y[1])\n",
        "  pas.append(y[2])\n",
        "\n",
        "n=[]\n",
        "l=[]\n",
        "for x in letters:\n",
        "  l.append(x[0])\n",
        "\n",
        "for x in nums:\n",
        "  s = re.split(\"-\", x)\n",
        "  for y in s:\n",
        "    y = int(y)\n",
        "\n",
        "  n.append(s)\n",
        "\n",
        "n1 = []\n",
        "n2 = []\n",
        "for t in n:\n",
        "  t[0] = int(t[0]) -1\n",
        "  n1.append(t[0])\n",
        "  t[1] = int(t[1]) -1\n",
        "  n2.append(t[1])\n",
        "\n",
        "occur = []\n",
        "i=0\n",
        "j=[]\n",
        "k=[]\n",
        "for x in pas:\n",
        "  a = x[n1[i]]\n",
        "  b = x[n2[i]]\n",
        "  j.append(a)\n",
        "  k.append(b)\n",
        "  i = i +1\n",
        "\n",
        "answer=[]\n",
        "v=0\n",
        "for x in l:\n",
        "  if x==j[v] and x!=k[v]:\n",
        "    answer.append(x)\n",
        "  elif x!=j[v] and x==k[v]:\n",
        "    answer.append(x)\n",
        "  v = v+1\n",
        "\n",
        "print(len(answer))\n",
        "\n"
      ],
      "metadata": {
        "colab": {
          "base_uri": "https://localhost:8080/"
        },
        "id": "LNVulLP6XhxS",
        "outputId": "e13c9dee-a143-4506-f5b0-bdd2c99f3564"
      },
      "execution_count": 43,
      "outputs": [
        {
          "output_type": "stream",
          "name": "stdout",
          "text": [
            "451\n"
          ]
        }
      ]
    }
  ]
}