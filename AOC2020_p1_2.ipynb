{
  "nbformat": 4,
  "nbformat_minor": 0,
  "metadata": {
    "colab": {
      "provenance": [],
      "authorship_tag": "ABX9TyODRzGH1JVbbpr1voitT/LH",
      "include_colab_link": true
    },
    "kernelspec": {
      "name": "python3",
      "display_name": "Python 3"
    },
    "language_info": {
      "name": "python"
    }
  },
  "cells": [
    {
      "cell_type": "markdown",
      "metadata": {
        "id": "view-in-github",
        "colab_type": "text"
      },
      "source": [
        "<a href=\"https://colab.research.google.com/github/Sina-Gharloghi/Advent-of-Code/blob/main/AOC2020_p1_2.ipynb\" target=\"_parent\"><img src=\"https://colab.research.google.com/assets/colab-badge.svg\" alt=\"Open In Colab\"/></a>"
      ]
    },
    {
      "cell_type": "code",
      "execution_count": 29,
      "metadata": {
        "colab": {
          "base_uri": "https://localhost:8080/"
        },
        "id": "6ScWH8Q89WLo",
        "outputId": "9553c14c-3825-4924-f088-1b0e9281edda"
      },
      "outputs": [
        {
          "output_type": "stream",
          "name": "stdout",
          "text": [
            "a , b , c =  1269 , 261 , 490\n",
            "answer =  162292410\n"
          ]
        }
      ],
      "source": [
        "my_file = open(\"/input.txt\")\n",
        "data = my_file.readlines()\n",
        "\n",
        "for x in range (0,len(data)):\n",
        "  data[x] = int(data[x])\n",
        "  \n",
        "j = 0\n",
        "\n",
        "for x in range (0,len(data)):\n",
        "  for y in range (0,len(data)):\n",
        "    for z in range (0,len(data)):\n",
        "      sum = data[x] + data[y] + data[z]\n",
        "      if sum == 2020:\n",
        "        global a\n",
        "        global b\n",
        "        global c\n",
        "        a = data[x]\n",
        "        b = data [y]\n",
        "        c = data [z]\n",
        "        break\n",
        "\n",
        "print (\"a , b , c = \", a , \",\" , b, \",\" , c)\n",
        "\n",
        "answer = a * b * c\n",
        "\n",
        "print (\"answer = \", answer)"
      ]
    }
  ]
}